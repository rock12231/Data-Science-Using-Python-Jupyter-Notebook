{
 "cells": [
  {
   "cell_type": "code",
   "execution_count": 5,
   "metadata": {
    "scrolled": true
   },
   "outputs": [
    {
     "name": "stdout",
     "output_type": "stream",
     "text": [
      "Hello bro enter your name avinash \n",
      "Hello Mr avinash  Where you from\n"
     ]
    }
   ],
   "source": [
    "sms = input(\"Hello bro enter your name \")\n",
    "print(\"Hello Mr\",sms,\"Where you from\")"
   ]
  },
  {
   "cell_type": "code",
   "execution_count": null,
   "metadata": {},
   "outputs": [],
   "source": [
    "\n",
    "input\n"
   ]
  },
  {
   "cell_type": "code",
   "execution_count": null,
   "metadata": {},
   "outputs": [],
   "source": [
    "#TO DAY YO MY FIRST CLASS"
   ]
  },
  {
   "cell_type": "markdown",
   "metadata": {},
   "source": [
    "# title \n",
    "## tiltel\n",
    "### tirle\n",
    "#### tgdth\n",
    "##### dgrdgdh"
   ]
  },
  {
   "cell_type": "markdown",
   "metadata": {},
   "source": [
    "### front \n",
    "~ ` hello dear ` ~"
   ]
  },
  {
   "cell_type": "code",
   "execution_count": null,
   "metadata": {},
   "outputs": [],
   "source": []
  },
  {
   "cell_type": "markdown",
   "metadata": {},
   "source": [
    "__BOLD__"
   ]
  },
  {
   "cell_type": "markdown",
   "metadata": {},
   "source": [
    "_italic_"
   ]
  },
  {
   "cell_type": "markdown",
   "metadata": {},
   "source": [
    "***\"same italic\"***"
   ]
  },
  {
   "cell_type": "markdown",
   "metadata": {},
   "source": [
    ">level1\n",
    ">>level2\n",
    ">>>level3\n",
    ">>>>4"
   ]
  },
  {
   "cell_type": "markdown",
   "metadata": {},
   "source": [
    "hello<br>man"
   ]
  },
  {
   "cell_type": "markdown",
   "metadata": {},
   "source": [
    "<font color = red>\"i am avi\"</font> <br> \"you are not bro\""
   ]
  },
  {
   "cell_type": "markdown",
   "metadata": {},
   "source": [
    "- helo\n"
   ]
  },
  {
   "cell_type": "markdown",
   "metadata": {},
   "source": [
    "1. yo\n",
    "2. hhjhb"
   ]
  },
  {
   "cell_type": "markdown",
   "metadata": {},
   "source": [
    "exMPLE : <img scr = \"C:\\Users\\avina\\Desktop\\ME\\Un.png\">"
   ]
  },
  {
   "cell_type": "markdown",
   "metadata": {},
   "source": [
    "FORMPLA \n",
    "\\begin{align}\n",
    "\\dot{x} & = \\sigma(y-x) \\\\\n",
    "\\dot{y} & = \\rho x - y - xz \\\\\n",
    "\\dot{z} & = -\\beta z + xy\n",
    "\\end{align}"
   ]
  },
  {
   "cell_type": "code",
   "execution_count": null,
   "metadata": {},
   "outputs": [],
   "source": []
  }
 ],
 "metadata": {
  "kernelspec": {
   "display_name": "Python 3",
   "language": "python",
   "name": "python3"
  },
  "language_info": {
   "codemirror_mode": {
    "name": "ipython",
    "version": 3
   },
   "file_extension": ".py",
   "mimetype": "text/x-python",
   "name": "python",
   "nbconvert_exporter": "python",
   "pygments_lexer": "ipython3",
   "version": "3.8.3"
  }
 },
 "nbformat": 4,
 "nbformat_minor": 2
}
