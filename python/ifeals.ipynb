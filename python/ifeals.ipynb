{
 "cells": [
  {
   "cell_type": "code",
   "execution_count": 3,
   "metadata": {},
   "outputs": [
    {
     "name": "stdout",
     "output_type": "stream",
     "text": [
      "Please enter  the value : 0\n",
      "Its equal to ZERO\n"
     ]
    }
   ],
   "source": [
    "score = int(input(\"Please enter  the value : \"))\n",
    "\n",
    "if score < 0:\n",
    "    print(\"Less then ZERO or Negative\")\n",
    "elif score == 0:\n",
    "    print(\"Its equal to ZERO\")\n",
    "elif score == 1:\n",
    "    print(\"Its ONE\")\n",
    "else:\n",
    "    print(\"bigger then then ONE\")"
   ]
  },
  {
   "cell_type": "raw",
   "metadata": {},
   "source": [
    "string = \"Hey this is good food go for that i am enjoing so much\"\n",
    "\n",
    "for af\n"
   ]
  },
  {
   "cell_type": "code",
   "execution_count": 5,
   "metadata": {},
   "outputs": [
    {
     "name": "stdout",
     "output_type": "stream",
     "text": [
      "H\n",
      "e\n",
      "y\n",
      " \n",
      "t\n",
      "h\n",
      "i\n",
      "s\n",
      " \n",
      "i\n",
      "s\n",
      " \n",
      "g\n",
      "o\n",
      "o\n",
      "d\n",
      " \n",
      "f\n",
      "o\n",
      "o\n",
      "d\n",
      " \n",
      "g\n",
      "o\n",
      " \n",
      "f\n",
      "o\n",
      "r\n",
      " \n",
      "t\n",
      "h\n",
      "a\n",
      "t\n",
      " \n",
      "i\n",
      " \n",
      "a\n",
      "m\n",
      " \n",
      "e\n",
      "n\n",
      "j\n",
      "o\n",
      "i\n",
      "n\n",
      "g\n",
      " \n",
      "s\n",
      "o\n",
      " \n",
      "m\n",
      "u\n",
      "c\n",
      "h\n"
     ]
    }
   ],
   "source": [
    "string = \"Hey this is good food go for that i am enjoing so much\"\n",
    "\n",
    "for alpha in string:\n",
    "    print(alpha)\n"
   ]
  },
  {
   "cell_type": "code",
   "execution_count": null,
   "metadata": {},
   "outputs": [],
   "source": [
    "input()"
   ]
  },
  {
   "cell_type": "code",
   "execution_count": 1,
   "metadata": {},
   "outputs": [
    {
     "name": "stdout",
     "output_type": "stream",
     "text": [
      "{1: 3, 2: 23, 3: 343, 4: 454, 5: 454, 6: 3434, 7: 34}\n"
     ]
    }
   ],
   "source": [
    "d = {1:3,2:23,3:343,4:454,5:454,6:3434,7:34}\n",
    "print(d)"
   ]
  },
  {
   "cell_type": "code",
   "execution_count": 2,
   "metadata": {},
   "outputs": [
    {
     "name": "stdout",
     "output_type": "stream",
     "text": [
      "1 3\n",
      "2 23\n",
      "3 343\n",
      "4 454\n",
      "5 454\n",
      "6 3434\n",
      "7 34\n"
     ]
    }
   ],
   "source": [
    "for k , v in d.items():\n",
    "    print(k,v)"
   ]
  },
  {
   "cell_type": "code",
   "execution_count": 3,
   "metadata": {},
   "outputs": [
    {
     "name": "stdout",
     "output_type": "stream",
     "text": [
      "1\n",
      "2\n",
      "3\n",
      "4\n",
      "5\n",
      "6\n",
      "7\n"
     ]
    }
   ],
   "source": [
    "for k in d.keys():\n",
    "    print(k)"
   ]
  },
  {
   "cell_type": "code",
   "execution_count": 4,
   "metadata": {},
   "outputs": [
    {
     "name": "stdout",
     "output_type": "stream",
     "text": [
      "3\n",
      "23\n",
      "343\n",
      "454\n",
      "454\n",
      "3434\n",
      "34\n"
     ]
    }
   ],
   "source": [
    "for v in d.values():\n",
    "    print(v)"
   ]
  },
  {
   "cell_type": "code",
   "execution_count": 11,
   "metadata": {},
   "outputs": [
    {
     "name": "stdout",
     "output_type": "stream",
     "text": [
      "01123"
     ]
    }
   ],
   "source": [
    "n=4\n",
    "a,b=0,1\n",
    "\n",
    "while a < n:\n",
    "    print(a,end='')\n",
    "    a,b=b,a+b"
   ]
  },
  {
   "cell_type": "code",
   "execution_count": null,
   "metadata": {},
   "outputs": [],
   "source": []
  }
 ],
 "metadata": {
  "kernelspec": {
   "display_name": "Python 3",
   "language": "python",
   "name": "python3"
  },
  "language_info": {
   "codemirror_mode": {
    "name": "ipython",
    "version": 3
   },
   "file_extension": ".py",
   "mimetype": "text/x-python",
   "name": "python",
   "nbconvert_exporter": "python",
   "pygments_lexer": "ipython3",
   "version": "3.8.3"
  }
 },
 "nbformat": 4,
 "nbformat_minor": 4
}
