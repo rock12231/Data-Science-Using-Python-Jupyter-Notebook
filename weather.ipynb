{
 "cells": [
  {
   "cell_type": "code",
   "execution_count": 1,
   "metadata": {},
   "outputs": [],
   "source": [
    "import numpy as np\n",
    "import matplotlib.pyplot as plt\n",
    "import pandas as pd"
   ]
  },
  {
   "cell_type": "code",
   "execution_count": 3,
   "metadata": {},
   "outputs": [
    {
     "name": "stdout",
     "output_type": "stream",
     "text": [
      "Collecting keras-mixed-sequence\n",
      "  Downloading keras_mixed_sequence-1.0.26.tar.gz (6.9 kB)\n",
      "Collecting tensorflow\n",
      "  Downloading tensorflow-2.4.1-cp38-cp38-win_amd64.whl (370.7 MB)\n",
      "Requirement already satisfied: tqdm in c:\\users\\avina\\anaconda3\\lib\\site-packages (from keras-mixed-sequence) (4.47.0)\n",
      "Collecting google-pasta~=0.2\n",
      "  Downloading google_pasta-0.2.0-py3-none-any.whl (57 kB)\n",
      "Collecting tensorboard~=2.4\n",
      "  Downloading tensorboard-2.5.0-py3-none-any.whl (6.0 MB)\n",
      "Collecting absl-py~=0.10\n",
      "  Downloading absl_py-0.12.0-py3-none-any.whl (129 kB)\n",
      "Collecting wrapt~=1.12.1\n",
      "  Downloading wrapt-1.12.1.tar.gz (27 kB)\n",
      "Collecting termcolor~=1.1.0\n",
      "  Downloading termcolor-1.1.0.tar.gz (3.9 kB)\n",
      "Requirement already satisfied: protobuf>=3.9.2 in c:\\users\\avina\\anaconda3\\lib\\site-packages (from tensorflow->keras-mixed-sequence) (3.16.0rc1)\n",
      "Requirement already satisfied: six~=1.15.0 in c:\\users\\avina\\anaconda3\\lib\\site-packages (from tensorflow->keras-mixed-sequence) (1.15.0)\n",
      "Collecting wheel~=0.35\n",
      "  Using cached wheel-0.36.2-py2.py3-none-any.whl (35 kB)\n",
      "Collecting tensorflow-estimator<2.5.0,>=2.4.0\n",
      "  Downloading tensorflow_estimator-2.4.0-py2.py3-none-any.whl (462 kB)\n",
      "Collecting opt-einsum~=3.3.0\n",
      "  Downloading opt_einsum-3.3.0-py3-none-any.whl (65 kB)\n",
      "Requirement already satisfied: typing-extensions~=3.7.4 in c:\\users\\avina\\anaconda3\\lib\\site-packages (from tensorflow->keras-mixed-sequence) (3.7.4.2)\n",
      "Collecting astunparse~=1.6.3\n",
      "  Downloading astunparse-1.6.3-py2.py3-none-any.whl (12 kB)\n",
      "Collecting gast==0.3.3\n",
      "  Downloading gast-0.3.3-py2.py3-none-any.whl (9.7 kB)\n",
      "Collecting keras-preprocessing~=1.1.2\n",
      "  Downloading Keras_Preprocessing-1.1.2-py2.py3-none-any.whl (42 kB)\n",
      "Collecting grpcio~=1.32.0\n",
      "  Downloading grpcio-1.32.0-cp38-cp38-win_amd64.whl (2.6 MB)\n",
      "Requirement already satisfied: h5py~=2.10.0 in c:\\users\\avina\\anaconda3\\lib\\site-packages (from tensorflow->keras-mixed-sequence) (2.10.0)\n",
      "Collecting numpy~=1.19.2\n",
      "  Downloading numpy-1.19.5-cp38-cp38-win_amd64.whl (13.3 MB)\n",
      "Collecting flatbuffers~=1.12.0\n",
      "  Downloading flatbuffers-1.12-py2.py3-none-any.whl (15 kB)\n",
      "Collecting requests<3,>=2.21.0\n",
      "  Using cached requests-2.25.1-py2.py3-none-any.whl (61 kB)\n",
      "Collecting google-auth-oauthlib<0.5,>=0.4.1\n",
      "  Downloading google_auth_oauthlib-0.4.4-py2.py3-none-any.whl (18 kB)\n",
      "Collecting tensorboard-plugin-wit>=1.6.0\n",
      "  Downloading tensorboard_plugin_wit-1.8.0-py3-none-any.whl (781 kB)\n",
      "Collecting markdown>=2.6.8\n",
      "  Downloading Markdown-3.3.4-py3-none-any.whl (97 kB)\n",
      "Collecting google-auth<2,>=1.6.3\n",
      "  Downloading google_auth-1.29.0-py2.py3-none-any.whl (142 kB)\n",
      "Requirement already satisfied: setuptools>=41.0.0 in c:\\users\\avina\\anaconda3\\lib\\site-packages (from tensorboard~=2.4->tensorflow->keras-mixed-sequence) (49.2.0.post20200714)\n",
      "Requirement already satisfied: werkzeug>=0.11.15 in c:\\users\\avina\\anaconda3\\lib\\site-packages (from tensorboard~=2.4->tensorflow->keras-mixed-sequence) (1.0.1)\n",
      "Collecting tensorboard-data-server<0.7.0,>=0.6.0\n",
      "  Downloading tensorboard_data_server-0.6.0-py3-none-any.whl (2.3 kB)\n",
      "Requirement already satisfied: certifi>=2017.4.17 in c:\\users\\avina\\anaconda3\\lib\\site-packages (from requests<3,>=2.21.0->tensorboard~=2.4->tensorflow->keras-mixed-sequence) (2020.6.20)\n",
      "Requirement already satisfied: urllib3<1.27,>=1.21.1 in c:\\users\\avina\\anaconda3\\lib\\site-packages (from requests<3,>=2.21.0->tensorboard~=2.4->tensorflow->keras-mixed-sequence) (1.25.9)\n",
      "Requirement already satisfied: chardet<5,>=3.0.2 in c:\\users\\avina\\anaconda3\\lib\\site-packages (from requests<3,>=2.21.0->tensorboard~=2.4->tensorflow->keras-mixed-sequence) (3.0.4)\n",
      "Requirement already satisfied: idna<3,>=2.5 in c:\\users\\avina\\anaconda3\\lib\\site-packages (from requests<3,>=2.21.0->tensorboard~=2.4->tensorflow->keras-mixed-sequence) (2.10)\n",
      "Collecting requests-oauthlib>=0.7.0\n",
      "  Downloading requests_oauthlib-1.3.0-py2.py3-none-any.whl (23 kB)\n",
      "Collecting cachetools<5.0,>=2.0.0\n",
      "  Downloading cachetools-4.2.1-py3-none-any.whl (12 kB)\n",
      "Requirement already satisfied: rsa<5,>=3.1.4; python_version >= \"3.6\" in c:\\users\\avina\\anaconda3\\lib\\site-packages (from google-auth<2,>=1.6.3->tensorboard~=2.4->tensorflow->keras-mixed-sequence) (4.7.2)\n",
      "Requirement already satisfied: pyasn1-modules>=0.2.1 in c:\\users\\avina\\anaconda3\\lib\\site-packages (from google-auth<2,>=1.6.3->tensorboard~=2.4->tensorflow->keras-mixed-sequence) (0.2.8)\n",
      "Collecting oauthlib>=3.0.0\n",
      "  Downloading oauthlib-3.1.0-py2.py3-none-any.whl (147 kB)\n",
      "Requirement already satisfied: pyasn1>=0.1.3 in c:\\users\\avina\\anaconda3\\lib\\site-packages (from rsa<5,>=3.1.4; python_version >= \"3.6\"->google-auth<2,>=1.6.3->tensorboard~=2.4->tensorflow->keras-mixed-sequence) (0.4.8)\n",
      "Building wheels for collected packages: keras-mixed-sequence, wrapt, termcolor\n",
      "  Building wheel for keras-mixed-sequence (setup.py): started\n",
      "  Building wheel for keras-mixed-sequence (setup.py): finished with status 'done'\n",
      "  Created wheel for keras-mixed-sequence: filename=keras_mixed_sequence-1.0.26-py3-none-any.whl size=7457 sha256=996f2a51d9bcbd7a4396abf7deedb0aeb34f021e15f2038711a852960688ecf9\n",
      "  Stored in directory: c:\\users\\avina\\appdata\\local\\pip\\cache\\wheels\\3f\\35\\e1\\f0e6dad1ef42302351e68329302a4b5f1b8c07e6c0c5187d90\n",
      "  Building wheel for wrapt (setup.py): started\n",
      "  Building wheel for wrapt (setup.py): finished with status 'done'\n",
      "  Created wheel for wrapt: filename=wrapt-1.12.1-py3-none-any.whl size=19558 sha256=73bef5bd5cdb40a5901f6898bdcaad5570e046667e457e58b68cbc39107c0af3\n",
      "  Stored in directory: c:\\users\\avina\\appdata\\local\\pip\\cache\\wheels\\5f\\fd\\9e\\b6cf5890494cb8ef0b5eaff72e5d55a70fb56316007d6dfe73\n",
      "  Building wheel for termcolor (setup.py): started\n",
      "  Building wheel for termcolor (setup.py): finished with status 'done'\n",
      "  Created wheel for termcolor: filename=termcolor-1.1.0-py3-none-any.whl size=4835 sha256=594f34e12cef77ff204ae70e5a664db55ec01e79942b7a4545d6855034a803df\n",
      "  Stored in directory: c:\\users\\avina\\appdata\\local\\pip\\cache\\wheels\\a0\\16\\9c\\5473df82468f958445479c59e784896fa24f4a5fc024b0f501\n",
      "Successfully built keras-mixed-sequence wrapt termcolor\n",
      "Installing collected packages: google-pasta, requests, oauthlib, requests-oauthlib, cachetools, google-auth, google-auth-oauthlib, wheel, tensorboard-plugin-wit, grpcio, markdown, absl-py, numpy, tensorboard-data-server, tensorboard, wrapt, termcolor, tensorflow-estimator, opt-einsum, astunparse, gast, keras-preprocessing, flatbuffers, tensorflow, keras-mixed-sequence\n",
      "  Attempting uninstall: requests\n",
      "    Found existing installation: requests 2.11.1\n",
      "    Uninstalling requests-2.11.1:\n",
      "      Successfully uninstalled requests-2.11.1\n",
      "  Attempting uninstall: wheel\n",
      "    Found existing installation: wheel 0.34.2\n",
      "    Uninstalling wheel-0.34.2:\n",
      "      Successfully uninstalled wheel-0.34.2\n",
      "  Attempting uninstall: numpy\n",
      "    Found existing installation: numpy 1.18.5\n",
      "    Uninstalling numpy-1.18.5:\n",
      "      Successfully uninstalled numpy-1.18.5\n",
      "Note: you may need to restart the kernel to use updated packages.\n"
     ]
    },
    {
     "name": "stderr",
     "output_type": "stream",
     "text": [
      "ERROR: pyrebase4 4.4.3 has requirement gcloud>=0.18.3, but you'll have gcloud 0.17.0 which is incompatible.\n",
      "ERROR: pyrebase4 4.4.3 has requirement oauth2client>=4.1.2, but you'll have oauth2client 3.0.0 which is incompatible.\n",
      "ERROR: pyrebase4 4.4.3 has requirement requests-toolbelt>=0.7.1, but you'll have requests-toolbelt 0.7.0 which is incompatible.\n",
      "ERROR: Could not install packages due to an EnvironmentError: [WinError 5] Access is denied: 'C:\\\\Users\\\\avina\\\\anaconda3\\\\Lib\\\\site-packages\\\\~umpy\\\\core\\\\_multiarray_tests.cp38-win_amd64.pyd'\n",
      "Consider using the `--user` option or check the permissions.\n",
      "\n"
     ]
    }
   ],
   "source": [
    "pip install keras-mixed-sequence"
   ]
  },
  {
   "cell_type": "code",
   "execution_count": null,
   "metadata": {},
   "outputs": [],
   "source": []
  }
 ],
 "metadata": {
  "kernelspec": {
   "display_name": "Python 3",
   "language": "python",
   "name": "python3"
  },
  "language_info": {
   "codemirror_mode": {
    "name": "ipython",
    "version": 3
   },
   "file_extension": ".py",
   "mimetype": "text/x-python",
   "name": "python",
   "nbconvert_exporter": "python",
   "pygments_lexer": "ipython3",
   "version": "3.8.3"
  }
 },
 "nbformat": 4,
 "nbformat_minor": 4
}
